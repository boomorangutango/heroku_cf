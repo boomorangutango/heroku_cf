{
 "cells": [
  {
   "cell_type": "markdown",
   "metadata": {
    "extensions": {
     "jupyter_dashboards": {
      "version": 1,
      "views": {
       "grid_default": {
        "col": 0,
        "height": 14,
        "hidden": false,
        "row": 0,
        "width": null
       },
       "report_default": {
        "hidden": false
       }
      }
     }
    }
   },
   "source": [
    "# RAM Concept Creep Factor <v0.1>\n",
    "\n",
    "## Introduction:\n",
    "\n",
    "This notebook aids in the calculation of the RAM Concept concrete creep factor. The RAM Concept creep factor defaults to a value of 3.35 based on recommendations in ACI 209.\n",
    "\n",
    "### Assumptions and Limitations:\n",
    "- Valid only for moist-cured slab elements with age at loading greater than 7 days."
   ]
  },
  {
   "cell_type": "code",
   "execution_count": 1,
   "metadata": {},
   "outputs": [],
   "source": [
    "import ipywidgets as widgets\n",
    "from IPython.display import display\n",
    "# import json\n",
    "# from tkinter import Tk\n",
    "# from tkinter.filedialog import askopenfilename, asksaveasfilename\n",
    "# import pickle"
   ]
  },
  {
   "cell_type": "code",
   "execution_count": 2,
   "metadata": {
    "extensions": {
     "jupyter_dashboards": {
      "version": 1,
      "views": {
       "grid_default": {
        "hidden": true
       },
       "report_default": {
        "hidden": false
       }
      }
     }
    },
    "scrolled": true
   },
   "outputs": [],
   "source": [
    "class Creep_Factor(object):\n",
    "    \n",
    "    def __init__(self):\n",
    "        \n",
    "        # Calc Admin Data\n",
    "        self.company = 'Company Name'\n",
    "        self.proj_id = 'Project ID'\n",
    "        self.date = 'Date'\n",
    "        self.prep_by = 'ID of preparer'\n",
    "        self.check_by = 'ID of checker'\n",
    "        \n",
    "        self.t0 = 14\n",
    "        self.h = 8\n",
    "        self.s = 3.5\n",
    "        self.p = 40\n",
    "        self.a = 1.5\n",
    "        self.RH = 0.7\n",
    "        \n",
    "    def calc(self):\n",
    "        \n",
    "        # Calculate the concrete creep factor.\n",
    "        self.gamma_ct0 = 1.25*self.t0**-0.118\n",
    "        self.gamma_ch = 1.10 - 0.017*self.h\n",
    "        self.gamma_cs = 0.82 + 0.067*self.s\n",
    "        self.gamma_cpsi = 0.88 + 0.0024*self.p\n",
    "        self.gamma_calpha = max(1, 0.46 + 0.09*self.a)\n",
    "        self.gamma_cRH = 1.27 - 0.67*self.RH\n",
    "        self.gamma_c = self.gamma_ct0*self.gamma_ch*self.gamma_cs*self.gamma_cpsi*self.gamma_calpha*self.gamma_cRH\n",
    "        self.phi_u = 2.35*self.gamma_c\n",
    "        self.k_e = self.phi_u + 1\n",
    "\n",
    "# Create the calc object.\n",
    "cf = Creep_Factor()"
   ]
  },
  {
   "cell_type": "code",
   "execution_count": 3,
   "metadata": {},
   "outputs": [],
   "source": [
    "class Creep_Factor_Layout(object):\n",
    "    \n",
    "    def __init__(self, calc):\n",
    "        \n",
    "        self.cf = calc\n",
    "\n",
    "        # Create calc admin widgets.\n",
    "        self.company = widgets.Text(value=calc.company, description='Company:')\n",
    "        self.proj_id = widgets.Text(value=calc.proj_id, description='Project ID:')\n",
    "        self.date = widgets.Text(value=calc.date, description='Date:')\n",
    "        self.prep_by = widgets.Text(value=calc.prep_by, description='Prepared By:')\n",
    "        self.check_by = widgets.Text(value=calc.check_by, description='Checked By:')\n",
    "        \n",
    "        # Create calc input widgets.\n",
    "        self.t0 = widgets.FloatText(value=calc.t0, description=r'$t_0$ &nbsp <i>[days]</i>', disabled=False)\n",
    "        self.h = widgets.FloatText(value=calc.h, description=r'$h$ &nbsp <i>[in]</i>', disabled=False)\n",
    "        self.s = widgets.FloatText(value=calc.s, description=r'$s$ &nbsp <i>[in]</i>', disabled=False)\n",
    "        self.p = widgets.FloatText(value=calc.p, description=r'$\\psi$ &nbsp <i>[%]</i>', disabled=False)\n",
    "        self.a = widgets.FloatText(value=calc.a, description=r'$\\alpha$ &nbsp <i>[%]</i>', disabled=False)\n",
    "        self.RH = widgets.FloatText(value=calc.RH, description=r'$RH$ &nbsp <i>[u]</i>', disabled=False)\n",
    "        \n",
    "        # Create action widgets.\n",
    "        self.update_info_btn = widgets.Button(description='Update Proj. Info.')\n",
    "        self.update_info_btn.on_click(self.update_info)\n",
    "        \n",
    "        self.calc_btn = widgets.Button(description='Calc')\n",
    "        self.calc_btn.on_click(self.calc)\n",
    "        \n",
    "#         self.save_file_btn = widgets.Button(description='Save')\n",
    "#         self.save_file_btn.on_click(self.save_file)\n",
    "        \n",
    "        self.uploader = widgets.FileUpload()\n",
    "        \n",
    "        self.output = widgets.Output()\n",
    "        with self.output:\n",
    "            print('needs calc')\n",
    "        \n",
    "        # Create the dictionary for saving/loading calc.\n",
    "        self.data = {\n",
    "            'project info': {\n",
    "                'company': calc.company,\n",
    "                'project id': calc.proj_id,\n",
    "                'date': calc.date,\n",
    "                'prepared by': calc.prep_by,\n",
    "                'checked by': calc.check_by},\n",
    "            'input': {\n",
    "                't0': calc.t0,\n",
    "                'h': calc.h,\n",
    "                's': calc.s,\n",
    "                'p': calc.p,\n",
    "                'a': calc.a,\n",
    "                'RH': calc.RH},\n",
    "            'output': {\n",
    "                'gamma_ct0': 'needs calc',\n",
    "                'gamma_ch': 'needs calc',\n",
    "                'gamma_cs': 'needs calc',\n",
    "                'gamma_cpsi': 'needs calc',\n",
    "                'gamma_calpha': 'needs calc',\n",
    "                'gamma_cRH': 'needs calc',\n",
    "                'gamma_c': 'needs calc',\n",
    "                'phi_u': 'needs calc',\n",
    "                'k_e': 'needs calc'}}\n",
    "        \n",
    "    def update_info(self, b):\n",
    "        \n",
    "        # Update the calc.\n",
    "        self.cf.company = self.company.value\n",
    "        self.cf.proj_id = self.proj_id.value\n",
    "        self.cf.date = self.date.value\n",
    "        self.cf.prep_by = self.prep_by.value\n",
    "        self.cf.check_by = self.check_by.value\n",
    "        \n",
    "        # Update the data.\n",
    "        self.data['project info']['company'] = self.cf.company\n",
    "        self.data['project info']['proj_id'] = self.cf.proj_id\n",
    "        self.data['project info']['date'] = self.cf.date\n",
    "        self.data['project info']['prep_by'] = self.cf.prep_by\n",
    "        self.data['project info']['check_by'] = self.cf.check_by\n",
    "        \n",
    "    def calc(self, b):\n",
    "        \n",
    "        # Update the calc.\n",
    "        self.cf.t0 = self.t0.value\n",
    "        self.cf.h = self.h.value\n",
    "        self.cf.s = self.s.value\n",
    "        self.cf.p = self.p.value\n",
    "        self.cf.a = self.a.value\n",
    "        self.cf.RH = self.RH.value\n",
    "        self.cf.calc()\n",
    "        \n",
    "        # Clear output.\n",
    "        self.output.clear_output()\n",
    "\n",
    "        # Save data.\n",
    "        self.data['input']['t0'] = self.cf.t0\n",
    "        self.data['input']['h'] = self.cf.h\n",
    "        self.data['input']['s'] = self.cf.s\n",
    "        self.data['input']['p'] = self.cf.p\n",
    "        self.data['input']['a'] = self.cf.a\n",
    "        self.data['input']['RH'] = self.cf.RH\n",
    "        self.data['output']['gamma_ct0'] = self.cf.gamma_ct0\n",
    "        self.data['output']['gamma_ch'] = self.cf.gamma_ch\n",
    "        self.data['output']['gamma_cs'] = self.cf.gamma_cs\n",
    "        self.data['output']['gamma_cpsi'] = self.cf.gamma_cpsi\n",
    "        self.data['output']['gamma_calpha'] = self.cf.gamma_calpha\n",
    "        self.data['output']['gamma_cRH'] = self.cf.gamma_cRH\n",
    "        self.data['output']['gamma_c'] = self.cf.gamma_c\n",
    "        self.data['output']['phi_u'] = self.cf.phi_u\n",
    "        self.data['output']['k_e'] = self.cf.k_e\n",
    "        \n",
    "        # Create output.\n",
    "        with self.output:\n",
    "            display(widgets.HTMLMath(\n",
    "                rf\"\"\"\n",
    "                <h3> User Input </h3>\n",
    "                $t_0 = \\boldsymbol{{ {self.cf.t0} }}$ days &nbsp; <i>(age at loading)</i> <br>\n",
    "                $h = \\boldsymbol{{ {self.cf.h} }}$ in &nbsp; <i>(slab thickness)</i> <br>\n",
    "                $s = \\boldsymbol{{ {self.cf.s} }}$ in &nbsp; <i>(slump)</i> <br>\n",
    "                $\\psi = \\boldsymbol{{ {self.cf.p} }}$ % &nbsp; <i>(fine aggregate to toal aggregate)</i> <br>\n",
    "                $\\alpha = \\boldsymbol{{ {self.cf.a} }}$ % &nbsp; <i>(air content)</i> <br>\n",
    "                $RH = \\boldsymbol{{ {self.cf.RH} }}$ &nbsp; <i>(relative humidity)</i> <br>\n",
    "\n",
    "                <h3> Calculate Creep Factor </h3>\n",
    "                $\\gamma_{{c,t0}} = 1.25t_0^{{-0.118}} = \\boldsymbol{{ {self.cf.gamma_ct0:.2f} }}$ &nbsp; <i>(age at loading factor)</i> <br>\n",
    "                $\\gamma_{{c,h}} = 1.10 - 0.017h = \\boldsymbol{{ {self.cf.gamma_ch:.2f} }}$ &nbsp; <i>(thickness factor)</i> <br>\n",
    "                $\\gamma_{{c,s}} = 0.82 + 0.067s = \\boldsymbol{{ {self.cf.gamma_cs:.2f} }}$ &nbsp; <i>(slump factor)</i> <br>\n",
    "                $\\gamma_{{c,\\psi}} = 0.88 + 0.0024\\psi = \\boldsymbol{{ {self.cf.gamma_cpsi:.2f} }}$ &nbsp; <i>(fine aggregate to total aggregate factor)</i> <br>\n",
    "                $\\gamma_{{c,\\alpha}} = max(1, 0.46 + 0.09\\alpha) = \\boldsymbol{{ {self.cf.gamma_calpha:.2f} }}$ &nbsp; <i>(air content factor)</i> <br>\n",
    "                $\\gamma_{{c,RH}} = 1.27 - 0.67RH = \\boldsymbol{{ {self.cf.gamma_cRH:.2f} }}$ &nbsp; <i>(relative humidity factor)</i> <br>\n",
    "                $\\gamma_c = \\gamma_{{c,t0}}\\gamma_{{c,RH}}\\gamma_{{c,d}}\\gamma_{{c,s}}\\gamma_{{c,\\psi}}\\gamma_{{c,\\phi}}\\gamma_{{c,\\alpha}} = \\boldsymbol{{ {self.cf.gamma_c:.2f} }}$ &nbsp; <i>(correction factor)</i>  <br>\n",
    "                    <blockquote>\n",
    "                    $\\phi_u = 2.35\\gamma_c = \\boldsymbol{{ {self.cf.phi_u:.2f} }}$ &nbsp; <i>(creep coefficient)</i> <br>\n",
    "                        <blockquote>\n",
    "                        $k_{{e}} = \\phi_{{u}} + 1 = \\boldsymbol{{ {self.cf.k_e:.2f} }}$ &nbsp; <i>(Concept creep factor)</i>\n",
    "                        </blockquote>\n",
    "                    </blockquote>\n",
    "                \"\"\"))\n",
    "\n",
    "#     def save_file(self, b):\n",
    "\n",
    "#         # Create Tk root\n",
    "#         root = Tk()\n",
    "#         # Hide the main window\n",
    "#         root.withdraw()\n",
    "#         # Get the file path with a file browser.\n",
    "#         file_path = asksaveasfilename(defaultextension='.pkl')\n",
    "#         # Launch the GUI.\n",
    "#         #%gui tk\n",
    "        \n",
    "#         if file_path != \"\":\n",
    "#             # Pickle the object.\n",
    "#             pickle_out = open(file_path, \"wb\")\n",
    "#             pickle.dump(self.model, pickle_out)\n",
    "#             pickle_out.close()\n",
    "        \n",
    "#         # Save file.\n",
    "#         with open('data.txt', 'w') as outfile:\n",
    "#             json.dump(self.data, outfile)\n",
    "    "
   ]
  },
  {
   "cell_type": "code",
   "execution_count": 4,
   "metadata": {},
   "outputs": [],
   "source": [
    "# Create the calc layout.\n",
    "cfl = Creep_Factor_Layout(cf)"
   ]
  },
  {
   "cell_type": "markdown",
   "metadata": {},
   "source": [
    "## Save/Load:"
   ]
  },
  {
   "cell_type": "code",
   "execution_count": 5,
   "metadata": {},
   "outputs": [
    {
     "data": {
      "application/vnd.jupyter.widget-view+json": {
       "model_id": "d1b975d3c76348d2a59ff0f4fcb0e1ca",
       "version_major": 2,
       "version_minor": 0
      },
      "text/plain": [
       "FileUpload(value={}, description='Upload')"
      ]
     },
     "metadata": {},
     "output_type": "display_data"
    }
   ],
   "source": [
    "# display(cfl.save_file_btn)\n",
    "display(cfl.uploader)"
   ]
  },
  {
   "cell_type": "markdown",
   "metadata": {},
   "source": [
    "## Project Information:"
   ]
  },
  {
   "cell_type": "code",
   "execution_count": 6,
   "metadata": {},
   "outputs": [
    {
     "data": {
      "application/vnd.jupyter.widget-view+json": {
       "model_id": "ebec718389b14a4488b5f5ebb8e060a6",
       "version_major": 2,
       "version_minor": 0
      },
      "text/plain": [
       "Text(value='Company Name', description='Company:')"
      ]
     },
     "metadata": {},
     "output_type": "display_data"
    },
    {
     "data": {
      "application/vnd.jupyter.widget-view+json": {
       "model_id": "0b3879cb86454309b1b530ff37975e6a",
       "version_major": 2,
       "version_minor": 0
      },
      "text/plain": [
       "Text(value='Project ID', description='Project ID:')"
      ]
     },
     "metadata": {},
     "output_type": "display_data"
    },
    {
     "data": {
      "application/vnd.jupyter.widget-view+json": {
       "model_id": "975786d6252b4478bb27b31ed75486dd",
       "version_major": 2,
       "version_minor": 0
      },
      "text/plain": [
       "Text(value='Date', description='Date:')"
      ]
     },
     "metadata": {},
     "output_type": "display_data"
    },
    {
     "data": {
      "application/vnd.jupyter.widget-view+json": {
       "model_id": "c8599523068c4ff7be7de7524d9ecf37",
       "version_major": 2,
       "version_minor": 0
      },
      "text/plain": [
       "Text(value='ID of preparer', description='Prepared By:')"
      ]
     },
     "metadata": {},
     "output_type": "display_data"
    },
    {
     "data": {
      "application/vnd.jupyter.widget-view+json": {
       "model_id": "8ba2dce7115b49ca8e53b170993f9d26",
       "version_major": 2,
       "version_minor": 0
      },
      "text/plain": [
       "Text(value='ID of checker', description='Checked By:')"
      ]
     },
     "metadata": {},
     "output_type": "display_data"
    },
    {
     "data": {
      "application/vnd.jupyter.widget-view+json": {
       "model_id": "7963f593dc77497882b2acad90a18d7d",
       "version_major": 2,
       "version_minor": 0
      },
      "text/plain": [
       "Button(description='Update Proj. Info.', style=ButtonStyle())"
      ]
     },
     "metadata": {},
     "output_type": "display_data"
    }
   ],
   "source": [
    "display(cfl.company, cfl.proj_id, cfl.date, cfl.prep_by, cfl.check_by)\n",
    "display(cfl.update_info_btn)"
   ]
  },
  {
   "cell_type": "markdown",
   "metadata": {},
   "source": [
    "## Inputs:\n",
    "- $t_0$ [days] = age of slab at application of loading. E.g. $t_0 = 14$ for 14 days.\n",
    "- $h$ [in] = slab depth.\n",
    "- $s$ [in] = concrete mix slump.\n",
    "- $psi$ [%] = $\\psi$, ratio of fine aggregate to total aggregate (typically about 40%, i.e. $\\psi = 40$).\n",
    "- $\\alpha$ [%] = $\\alpha$, air content. E.g. $\\alpha = 1.5$ for 1.5% air content.\n",
    "- $RH$ = average relative humidity. E.g. $RH = 0.7$ for 70%.\n",
    "\n",
    "Expected units are given with square brackets, '[  ]'."
   ]
  },
  {
   "cell_type": "code",
   "execution_count": 7,
   "metadata": {},
   "outputs": [
    {
     "data": {
      "application/vnd.jupyter.widget-view+json": {
       "model_id": "a6d7a6294e7442498fd5e8746339dcb8",
       "version_major": 2,
       "version_minor": 0
      },
      "text/plain": [
       "FloatText(value=14.0, description='$t_0$ &nbsp <i>[days]</i>')"
      ]
     },
     "metadata": {},
     "output_type": "display_data"
    },
    {
     "data": {
      "application/vnd.jupyter.widget-view+json": {
       "model_id": "d4f886e51b1e4e83971a0801abb40b75",
       "version_major": 2,
       "version_minor": 0
      },
      "text/plain": [
       "FloatText(value=8.0, description='$h$ &nbsp <i>[in]</i>')"
      ]
     },
     "metadata": {},
     "output_type": "display_data"
    },
    {
     "data": {
      "application/vnd.jupyter.widget-view+json": {
       "model_id": "54cf9d530f414ed5aff9e6032a581f28",
       "version_major": 2,
       "version_minor": 0
      },
      "text/plain": [
       "FloatText(value=3.5, description='$s$ &nbsp <i>[in]</i>')"
      ]
     },
     "metadata": {},
     "output_type": "display_data"
    },
    {
     "data": {
      "application/vnd.jupyter.widget-view+json": {
       "model_id": "30adaf93d07f4d4682e0c8ac02af6ebb",
       "version_major": 2,
       "version_minor": 0
      },
      "text/plain": [
       "FloatText(value=40.0, description='$\\\\psi$ &nbsp <i>[%]</i>')"
      ]
     },
     "metadata": {},
     "output_type": "display_data"
    },
    {
     "data": {
      "application/vnd.jupyter.widget-view+json": {
       "model_id": "c86861dd32c544b38c73b8df953262b5",
       "version_major": 2,
       "version_minor": 0
      },
      "text/plain": [
       "FloatText(value=1.5, description='$\\\\alpha$ &nbsp <i>[%]</i>')"
      ]
     },
     "metadata": {},
     "output_type": "display_data"
    },
    {
     "data": {
      "application/vnd.jupyter.widget-view+json": {
       "model_id": "7f6d979cb7914ea780d0112d467470fe",
       "version_major": 2,
       "version_minor": 0
      },
      "text/plain": [
       "FloatText(value=0.7, description='$RH$ &nbsp <i>[u]</i>')"
      ]
     },
     "metadata": {},
     "output_type": "display_data"
    },
    {
     "data": {
      "application/vnd.jupyter.widget-view+json": {
       "model_id": "159457c45dc24360b60ce6a81e01dbeb",
       "version_major": 2,
       "version_minor": 0
      },
      "text/plain": [
       "Button(description='Calc', style=ButtonStyle())"
      ]
     },
     "metadata": {},
     "output_type": "display_data"
    }
   ],
   "source": [
    "display(cfl.t0, cfl.h, cfl.s, cfl.p, cfl.a, cfl.RH)\n",
    "display(cfl.calc_btn)"
   ]
  },
  {
   "cell_type": "markdown",
   "metadata": {
    "extensions": {
     "jupyter_dashboards": {
      "version": 1,
      "views": {
       "grid_default": {
        "col": 0,
        "height": 4,
        "hidden": false,
        "row": 33,
        "width": 4
       },
       "report_default": {
        "hidden": false
       }
      }
     }
    }
   },
   "source": [
    "## Results:"
   ]
  },
  {
   "cell_type": "code",
   "execution_count": 8,
   "metadata": {},
   "outputs": [
    {
     "data": {
      "application/vnd.jupyter.widget-view+json": {
       "model_id": "0993bf9b871d47d8a468fdef29bf6ef9",
       "version_major": 2,
       "version_minor": 0
      },
      "text/plain": [
       "Accordion(children=(Output(),), _titles={'0': 'Results'})"
      ]
     },
     "metadata": {},
     "output_type": "display_data"
    }
   ],
   "source": [
    "accordion = widgets.Accordion(children=[cfl.output])\n",
    "accordion.set_title(0, 'Results')\n",
    "\n",
    "display(accordion)"
   ]
  },
  {
   "cell_type": "markdown",
   "metadata": {
    "extensions": {
     "jupyter_dashboards": {
      "version": 1,
      "views": {
       "grid_default": {
        "col": 0,
        "height": 19,
        "hidden": false,
        "row": 14,
        "width": null
       },
       "report_default": {
        "hidden": false
       }
      }
     }
    }
   },
   "source": [
    "## Discussion:\n",
    "As noted in the RAM Concept manual, the creep coefficient ($\\phi_u$) is commonly defined as follows. \n",
    "> $\\phi_u = \\frac{\\epsilon_c}{\\epsilon_i}$, where\n",
    ">> $\\epsilon_c =$ creep strain, and <br>\n",
    ">> $\\epsilon_i = \\epsilon_e =$ initial (elastic) strain\n",
    "\n",
    "> $\\epsilon_f = \\epsilon_i + \\epsilon_c$, where\n",
    ">> $\\epsilon_f =$ total strain\n",
    "\n",
    "RAM Concept uses the factor $k_e$ to symbolize the \"concrete design creep factor\" and defined it as follows.\n",
    "> $k_e = \\frac{\\epsilon_f}{\\epsilon_e}$, where $\\epsilon_e = \\epsilon_i$\n",
    "\n",
    "Consequently, Concept uses \n",
    "> $k_e = \\frac{\\epsilon_i + \\epsilon_c}{\\epsilon_i} = 1 + \\frac{\\epsilon_c}{\\epsilon_i} = 1 + \\phi_u$\n",
    "\n",
    "Since 2.35 is suggested as average creep coefficient, $\\phi_u = 2.35$, Concept defaults to $k_e = 3.35$.\n",
    "\n",
    "Average relative humidity for different regions in the U.S. may be found the PCI Design Handbook.\n",
    "\n",
    "### References:\n",
    "\n",
    "1. ACI 209.2R-08 - Guide for Modeling and Calculating Shrinkage and Creep in Hardened Concrete, ACI, 2008.\n",
    "2. RAM Concept Manual, 2020.\n",
    "3. Prestressed Concrete Analysis and Design - Fundamentals (3rd Ed.), Antoine E. Naaman, 2012.\n",
    "\n",
    "### Change Log:\n",
    "- Created: Dec. 21, 2020 by SJ\n",
    "- Released:\n",
    "\n",
    "### Comments:\n",
    "- Where can each of the inputs be referenced? \n",
    "- How much difference does each factor make?\n",
    "- Can we get a chart of creep factors for common situations and for reference (controls)?\n",
    "- Location for user to add notes or description, maybe both.\n",
    "- Put Discussion in an accordian so that it doesn't need to print.\n",
    "- Need to figure out the save/load issue. Binder doesn't allow input/output of local files. BinderHub or Heroku might be options. Could also create a JupyterHub and run Voila with executables or run the full notebook. This last option does not require (benefit from) GitHub. On the other hand, the free Binder or Heroku is limited in RAM and use-time, and probably other ways."
   ]
  }
 ],
 "metadata": {
  "extensions": {
   "jupyter_dashboards": {
    "activeView": "report_default",
    "version": 1,
    "views": {
     "grid_default": {
      "cellMargin": 10,
      "defaultCellHeight": 20,
      "maxColumns": 12,
      "name": "grid",
      "type": "grid"
     },
     "report_default": {
      "name": "report",
      "type": "report"
     }
    }
   }
  },
  "kernelspec": {
   "display_name": "Python 3",
   "language": "python",
   "name": "python3"
  },
  "language_info": {
   "codemirror_mode": {
    "name": "ipython",
    "version": 3
   },
   "file_extension": ".py",
   "mimetype": "text/x-python",
   "name": "python",
   "nbconvert_exporter": "python",
   "pygments_lexer": "ipython3",
   "version": "3.8.5"
  }
 },
 "nbformat": 4,
 "nbformat_minor": 4
}
