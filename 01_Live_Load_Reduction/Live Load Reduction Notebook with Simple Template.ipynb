{
 "cells": [
  {
   "cell_type": "code",
   "execution_count": 3,
   "metadata": {
    "extensions": {
     "jupyter_dashboards": {
      "version": 1,
      "views": {
       "grid_default": {
        "hidden": true
       },
       "report_default": {
        "hidden": true
       }
      }
     }
    }
   },
   "outputs": [],
   "source": [
    "# Create a new collection of calculations.\n",
    "import Calc_Collection\n",
    "import LL_Reduction_Factor\n",
    "calcs = Calc_Collection.Calc_Collection(LL_Reduction_Factor.LL_Reduction_Factor)\n",
    "\n",
    "# Import IPython modules.\n",
    "import ipywidgets as wg\n",
    "from IPython.display import display"
   ]
  },
  {
   "cell_type": "code",
   "execution_count": 4,
   "metadata": {
    "extensions": {
     "jupyter_dashboards": {
      "version": 1,
      "views": {
       "grid_default": {
        "hidden": true
       },
       "report_default": {
        "hidden": true
       }
      }
     }
    }
   },
   "outputs": [],
   "source": [
    "# Create the inputs.\n",
    "from collections import OrderedDict\n",
    "inputs = OrderedDict()\n",
    "\n",
    "#======================================================================\n",
    "TA = wg.FloatText(value=calcs.current.TA)\n",
    "\n",
    "def change_TA(change):\n",
    "    calcs.current.TA = change['new']\n",
    "    \n",
    "TA.observe(change_TA, names='value')\n",
    "inputs['TA'] = {'widget': TA, 'label': 'trib. area = '}\n",
    "#======================================================================\n",
    "KLL_cat = wg.Dropdown(options=['Interior columns', \n",
    "                               'Exterior columns without canti. slab', \n",
    "                               'Corner columns with canti. slabs', \n",
    "                               'Edge beams without canti. slabs', \n",
    "                               'Interior beams', \n",
    "                               'All other members not identified'], \n",
    "                      value='Interior columns')\n",
    "\n",
    "def change_KLL_cat(change):\n",
    "    calcs.current.KLL_cat = change['new']\n",
    "    \n",
    "KLL_cat.observe(change_KLL_cat, names='value')\n",
    "inputs['KLL_cat'] = {'widget': KLL_cat, 'label': 'type of element = '}\n",
    "#======================================================================\n",
    "num_floor = wg.IntText(value=1)\n",
    "\n",
    "def change_num_floor(change):\n",
    "    calcs.current.num_floor = change['new']\n",
    "    \n",
    "num_floor.observe(change_num_floor, names='value')\n",
    "inputs['num_floor'] = {'widget': num_floor, 'label': 'number of floors = '}\n",
    "#======================================================================\n",
    "passenger_vehicle_garage = wg.Checkbox(value=False)\n",
    "\n",
    "def change_passenger_vehicle_garage(change):\n",
    "    calcs.current.passenger_vehicle_garage = change['new']\n",
    "    \n",
    "passenger_vehicle_garage.observe(change_passenger_vehicle_garage, names='value')\n",
    "inputs['passenger_vehicle_garage'] = {'widget': passenger_vehicle_garage, 'label': 'passenger vehicle garage?'}\n",
    "#======================================================================\n",
    "assembly_area = wg.Checkbox(value=False)\n",
    "\n",
    "def change_assembly_area(change):\n",
    "    calcs.current.assembly_area = change['new']\n",
    "    \n",
    "assembly_area.observe(change_assembly_area, names='value')\n",
    "inputs['assembly_area'] = {'widget': assembly_area, 'label': 'assembly area?'}\n",
    "#======================================================================"
   ]
  },
  {
   "cell_type": "code",
   "execution_count": 5,
   "metadata": {
    "extensions": {
     "jupyter_dashboards": {
      "version": 1,
      "views": {
       "grid_default": {
        "hidden": true
       },
       "report_default": {
        "hidden": true
       }
      }
     }
    }
   },
   "outputs": [],
   "source": [
    "# Create calc button.\n",
    "calc_btn = wg.Button(description='Calc Live Load Reduction')\n",
    "\n",
    "def calc_LL_reduction_factor(b):\n",
    "    IPST.clear_out()\n",
    "    calcs.current.calc_LL_reduction_factor()\n",
    "    IPST.write_out()\n",
    "    \n",
    "calc_btn.on_click(calc_LL_reduction_factor)"
   ]
  },
  {
   "cell_type": "code",
   "execution_count": 7,
   "metadata": {
    "extensions": {
     "jupyter_dashboards": {
      "version": 1,
      "views": {
       "grid_default": {
        "hidden": true
       },
       "report_default": {
        "hidden": true
       }
      }
     }
    }
   },
   "outputs": [],
   "source": [
    "# Import the simple template and load it up with the calcs collection and the inputs.\n",
    "import IP_Simple_Template\n",
    "IPST = IP_Simple_Template.IP_Simple_Template(calcs, inputs)"
   ]
  },
  {
   "cell_type": "markdown",
   "metadata": {
    "extensions": {
     "jupyter_dashboards": {
      "version": 1,
      "views": {
       "grid_default": {
        "col": 0,
        "height": 2,
        "hidden": false,
        "row": 0,
        "width": 12
       },
       "report_default": {
        "hidden": false
       }
      }
     }
    }
   },
   "source": [
    " # Live Load Reduction Calculator"
   ]
  },
  {
   "cell_type": "markdown",
   "metadata": {
    "extensions": {
     "jupyter_dashboards": {
      "version": 1,
      "views": {
       "grid_default": {
        "col": 0,
        "height": 16,
        "hidden": false,
        "row": 2,
        "width": 12
       },
       "report_default": {
        "hidden": false
       }
      }
     }
    }
   },
   "source": [
    "<b><u>Usage Notes:</b></u><br>\n",
    "<i>None at this time.</i>"
   ]
  },
  {
   "cell_type": "code",
   "execution_count": 8,
   "metadata": {
    "extensions": {
     "jupyter_dashboards": {
      "version": 1,
      "views": {
       "grid_default": {
        "hidden": true
       },
       "report_default": {
        "hidden": false
       }
      }
     }
    }
   },
   "outputs": [
    {
     "data": {
      "application/vnd.jupyter.widget-view+json": {
       "model_id": "af426cc68ab54f19a3c8fd3b96e6c13d",
       "version_major": 2,
       "version_minor": 0
      },
      "text/plain": [
       "HBox(children=(Button(description='New', style=ButtonStyle()), Button(description='Save', style=ButtonStyle())…"
      ]
     },
     "metadata": {},
     "output_type": "display_data"
    },
    {
     "data": {
      "application/vnd.jupyter.widget-view+json": {
       "model_id": "0c57328e673e41e49aab07b393dafe63",
       "version_major": 2,
       "version_minor": 0
      },
      "text/plain": [
       "Select(options=('**Title Me**',), value='**Title Me**')"
      ]
     },
     "metadata": {},
     "output_type": "display_data"
    },
    {
     "data": {
      "application/vnd.jupyter.widget-view+json": {
       "model_id": "ca6b79de6060435fb36aea958bedf862",
       "version_major": 2,
       "version_minor": 0
      },
      "text/plain": [
       "Accordion(children=(VBox(children=(Button(description='Delete', style=ButtonStyle()), HBox(children=(HBox(chil…"
      ]
     },
     "metadata": {},
     "output_type": "display_data"
    },
    {
     "data": {
      "application/vnd.jupyter.widget-view+json": {
       "model_id": "82cb50f8a2e04a3db45002608ff4b3b3",
       "version_major": 2,
       "version_minor": 0
      },
      "text/plain": [
       "Accordion(children=(VBox(children=(HBox(children=(Label(value='trib. area = '), FloatText(value=1.0))), HBox(c…"
      ]
     },
     "metadata": {},
     "output_type": "display_data"
    },
    {
     "data": {
      "application/vnd.jupyter.widget-view+json": {
       "model_id": "89b01c0dced242cf83f9803b7104d545",
       "version_major": 2,
       "version_minor": 0
      },
      "text/plain": [
       "Button(description='Calc Live Load Reduction', style=ButtonStyle())"
      ]
     },
     "metadata": {},
     "output_type": "display_data"
    },
    {
     "data": {
      "application/vnd.jupyter.widget-view+json": {
       "model_id": "ccfbb70473504559bd31ff1e9c498a90",
       "version_major": 2,
       "version_minor": 0
      },
      "text/plain": [
       "Accordion(children=(Output(),), _titles={'0': 'Output'})"
      ]
     },
     "metadata": {},
     "output_type": "display_data"
    }
   ],
   "source": [
    "display(IPST.file_box)\n",
    "display(IPST.calc_select)\n",
    "display(IPST.info_accordion)\n",
    "display(IPST.input_accordion)\n",
    "display(calc_btn)\n",
    "display(IPST.out_accordion)"
   ]
  },
  {
   "cell_type": "markdown",
   "metadata": {
    "extensions": {
     "jupyter_dashboards": {
      "version": 1,
      "views": {
       "grid_default": {
        "col": 0,
        "height": 13,
        "hidden": false,
        "row": 18,
        "width": 12
       },
       "report_default": {
        "hidden": false
       }
      }
     }
    }
   },
   "source": [
    "<b><u>General Notes:</b></u>\n",
    "1. Live loads may only be reduced if there are required minimum loads.\n",
    "2. The live load reduction factor may be calculated by setting L = 1.\n",
    "3. Roof live loads from assemblies, gardens, or other special purposes may be reduced as floor live loads.\n",
    "4. Heavy loads are not considered. If the live load exceeds 100 PSF for any portion of the area considered, that load should not be included in the reduced loads calculated by this program.\n",
    "5. For structural members in one-and two-family dwellings supporting more than one ﬂoor load, ASCE 7-10, Eq. 4.7-1 may be used. This option is not incorporated into this program.\n",
    "6. The tributary area for one-way slabs shall not exceed an area deﬁned by the slab span times a width normal to the span of 1.5 times the slab span.\n",
    "7. The factor K<sub>LL</sub> for all other members not identiﬁed, includes:\n",
    "    - Edge beams with cantilever slabs\n",
    "    - Cantilever beams\n",
    "    - One-way slabs\n",
    "    - Two-way slabs\n",
    "    - Members without provisions for continuous shear transfer normal to their span"
   ]
  },
  {
   "cell_type": "markdown",
   "metadata": {
    "extensions": {
     "jupyter_dashboards": {
      "version": 1,
      "views": {
       "grid_default": {
        "col": 0,
        "height": 4,
        "hidden": false,
        "row": 31,
        "width": 4
       },
       "report_default": {
        "hidden": false
       }
      }
     }
    }
   },
   "source": [
    "<b><u>References:</b></u>\n",
    "1. ASCE 7-10\n",
    "2. IBC"
   ]
  },
  {
   "cell_type": "code",
   "execution_count": null,
   "metadata": {},
   "outputs": [],
   "source": []
  }
 ],
 "metadata": {
  "extensions": {
   "jupyter_dashboards": {
    "activeView": "report_default",
    "version": 1,
    "views": {
     "grid_default": {
      "cellMargin": 10,
      "defaultCellHeight": 20,
      "maxColumns": 12,
      "name": "grid",
      "type": "grid"
     },
     "report_default": {
      "name": "report",
      "type": "report"
     }
    }
   }
  },
  "kernelspec": {
   "display_name": "Python 3",
   "language": "python",
   "name": "python3"
  },
  "language_info": {
   "codemirror_mode": {
    "name": "ipython",
    "version": 3
   },
   "file_extension": ".py",
   "mimetype": "text/x-python",
   "name": "python",
   "nbconvert_exporter": "python",
   "pygments_lexer": "ipython3",
   "version": "3.8.5"
  }
 },
 "nbformat": 4,
 "nbformat_minor": 4
}
